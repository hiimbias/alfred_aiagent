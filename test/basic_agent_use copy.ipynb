{
 "cells": [
  {
   "cell_type": "code",
   "execution_count": 1,
   "id": "176e7c0a",
   "metadata": {},
   "outputs": [
    {
     "name": "stdout",
     "output_type": "stream",
     "text": [
      "/home/hiimbias/Workspace/aiagent/test\n"
     ]
    }
   ],
   "source": [
    "import os\n",
    "print(os.getcwd())"
   ]
  },
  {
   "cell_type": "code",
   "execution_count": 2,
   "id": "3afc0e9b",
   "metadata": {},
   "outputs": [
    {
     "name": "stdout",
     "output_type": "stream",
     "text": [
      "/home/hiimbias/Workspace/aiagent\n"
     ]
    }
   ],
   "source": [
    "os.chdir('/home/hiimbias/Workspace/aiagent')\n",
    "print(os.getcwd())  # Verify the change"
   ]
  },
  {
   "cell_type": "code",
   "execution_count": 3,
   "id": "0740f17d",
   "metadata": {},
   "outputs": [],
   "source": [
    "from modules.openai.openai_executor import OpenAIExecutor\n",
    "from core.utils.tool_wrapper import tool\n",
    "from pydantic import BaseModel\n",
    "from typing import Annotated\n",
    "import openai\n",
    "import os\n",
    "from modules.tools.get_weather import get_weather_tool"
   ]
  },
  {
   "cell_type": "code",
   "execution_count": 4,
   "id": "0c972579",
   "metadata": {},
   "outputs": [],
   "source": [
    "@tool(\n",
    "    description=\"Calculate the sum of 2 numbers\", # Define the tool description\n",
    ")\n",
    "def calculate(a: Annotated[int, \"a\"], b: Annotated[int, \"b\"]) -> int:\n",
    "    \"\"\"Calculate the sum of two numbers\"\"\"\n",
    "    return a + b"
   ]
  },
  {
   "cell_type": "code",
   "execution_count": 5,
   "id": "109f4353",
   "metadata": {},
   "outputs": [
    {
     "data": {
      "text/plain": [
       "{'type': 'function',\n",
       " 'function': {'name': 'calculate',\n",
       "  'description': 'Calculate the sum of two numbers',\n",
       "  'strict': True,\n",
       "  'parameters': {'properties': {'a': {'title': 'A', 'type': 'integer'},\n",
       "    'b': {'title': 'B', 'type': 'integer'}},\n",
       "   'required': ['a', 'b'],\n",
       "   'type': 'object',\n",
       "   'additionalProperties': False}}}"
      ]
     },
     "execution_count": 5,
     "metadata": {},
     "output_type": "execute_result"
    }
   ],
   "source": [
    "calculate.schema"
   ]
  },
  {
   "cell_type": "code",
   "execution_count": 6,
   "id": "b52994ff",
   "metadata": {},
   "outputs": [
    {
     "name": "stdout",
     "output_type": "stream",
     "text": [
      "role='assistant' content=None tool_calls=[{'id': 'call_cXigMXasfowOZnz3Y9jTkmuu', 'type': 'function', 'function': {'arguments': '{\"mode\":\"current\",\"location\":\"New York\",\"days\":1}', 'name': 'get_weather_tool'}}] tool_results=None refusal=None audio=None usage=UsageResponse(prompt_tokens=197, completion_tokens=25, total_tokens=222, prompt_tokens_details=PromptTokensDetails(cached_tokens=0, audio_tokens=0), completion_tokens_details=CompletionTokensDetails(reasoning_tokens=0, audio_tokens=0, accepted_prediction_tokens=0, rejected_prediction_tokens=0))\n",
      "role='tool' content=None tool_calls=None tool_results=[ToolCallResult(tool_name='get_weather_tool', result=WeatherResponse(location='New York', current_weather=CurrentWeather(date='2025-05-13 23:30', temp=15.4, chance_of_rain=75.0, air_quality=2, humidity=93.0, condition='Light rain'), forecast=None, error=None))] refusal=None audio=None usage=None\n",
      "role='assistant' content='The current weather in New York is as follows:\\n\\n- **Temperature:** 15.4°C\\n- **Condition:** Light rain\\n- **Chance of Rain:** 75%\\n- **Humidity:** 93%\\n- **Air Quality Index:** 2 (Good)\\n\\nIf you need more details or a forecast, let me know!' tool_calls=None tool_results=[] refusal=None audio=None usage=UsageResponse(prompt_tokens=293, completion_tokens=69, total_tokens=362, prompt_tokens_details=PromptTokensDetails(cached_tokens=0, audio_tokens=0), completion_tokens_details=CompletionTokensDetails(reasoning_tokens=0, audio_tokens=0, accepted_prediction_tokens=0, rejected_prediction_tokens=0))\n"
     ]
    }
   ],
   "source": [
    "# Initialize OpenAI client\n",
    "client = openai.OpenAI(\n",
    "    api_key=os.getenv(\"OPENAI_API_KEY\"),\n",
    ")\n",
    "\n",
    "# Initialize LLM service\n",
    "executor = OpenAIExecutor(\n",
    "    client=client,\n",
    "    model=\"gpt-4o-mini\",\n",
    "    system_message=\"\"\"\n",
    "    You are a helpful assistant that can answer questions and help with tasks.\n",
    "    You are also able to use tools to get information.\n",
    "    \"\"\",\n",
    "    tools=[get_weather_tool, calculate],\n",
    "    temperature=0.5,\n",
    "    max_tokens=100,\n",
    "    top_p=1.0,\n",
    ")\n",
    "\n",
    "generator = executor.execute(\n",
    "    messages=[\n",
    "        {\"role\": \"user\", \"content\": \"What's the weather like in New York?\"}\n",
    "    ]\n",
    ")\n",
    "\n",
    "for response in generator:\n",
    "    print(response)"
   ]
  },
  {
   "cell_type": "code",
   "execution_count": 7,
   "id": "45e4b2e9",
   "metadata": {},
   "outputs": [
    {
     "data": {
      "text/plain": [
       "[{'role': 'system',\n",
       "  'content': '\\n    You are a helpful assistant that can answer questions and help with tasks.\\n    You are also able to use tools to get information.\\n    \\n        Current date and time: 2025-05-14 10:31:30\\n\\n        \\n        '}]"
      ]
     },
     "execution_count": 7,
     "metadata": {},
     "output_type": "execute_result"
    }
   ],
   "source": [
    "executor.get_history()"
   ]
  },
  {
   "cell_type": "code",
   "execution_count": 8,
   "id": "465869ce",
   "metadata": {},
   "outputs": [
    {
     "data": {
      "text/plain": [
       "[{'role': 'system',\n",
       "  'content': '\\n    You are a helpful assistant that can answer questions and help with tasks.\\n    You are also able to use tools to get information.\\n    \\n        Current date and time: 2025-05-14 10:31:30\\n\\n        \\n        '}]"
      ]
     },
     "execution_count": 8,
     "metadata": {},
     "output_type": "execute_result"
    }
   ],
   "source": [
    "executor.clear_history()"
   ]
  },
  {
   "cell_type": "code",
   "execution_count": null,
   "id": "82b2a256",
   "metadata": {},
   "outputs": [],
   "source": [
    "while True:\n",
    "    user_input = input(\"User: \")\n",
    "    print(f\"User: {user_input}\")\n",
    "    \n",
    "    if user_input.lower() == \"exit\":\n",
    "        break\n",
    "\n",
    "    generator = executor.execute(\n",
    "        messages=[\n",
    "            {\"role\": \"user\", \"content\": user_input}\n",
    "        ]\n",
    "    )\n",
    "\n",
    "    for response in generator:\n",
    "        if response.content is not None:\n",
    "            print(f\"AI: {response.content}\")\n",
    "        if response.tool_calls:\n",
    "            [print(f\"Tool Calls: {tool_call}\") for tool_call in response.tool_calls]"
   ]
  },
  {
   "cell_type": "code",
   "execution_count": null,
   "id": "a8ca886b",
   "metadata": {},
   "outputs": [
    {
     "data": {
      "text/plain": [
       "[{'role': 'system',\n",
       "  'content': '\\n    You are a helpful assistant that can answer questions and help with tasks.\\n    You are also able to use tools to get information.\\n    \\n        Current date and time: 2025-05-03 00:00:28\\n\\n        \\n        '}]"
      ]
     },
     "execution_count": 11,
     "metadata": {},
     "output_type": "execute_result"
    }
   ],
   "source": [
    "executor.get_history()"
   ]
  }
 ],
 "metadata": {
  "kernelspec": {
   "display_name": "venv",
   "language": "python",
   "name": "python3"
  },
  "language_info": {
   "codemirror_mode": {
    "name": "ipython",
    "version": 3
   },
   "file_extension": ".py",
   "mimetype": "text/x-python",
   "name": "python",
   "nbconvert_exporter": "python",
   "pygments_lexer": "ipython3",
   "version": "3.13.3"
  }
 },
 "nbformat": 4,
 "nbformat_minor": 5
}
