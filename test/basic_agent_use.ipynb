{
 "cells": [
  {
   "cell_type": "code",
   "execution_count": 1,
   "id": "176e7c0a",
   "metadata": {},
   "outputs": [
    {
     "name": "stdout",
     "output_type": "stream",
     "text": [
      "/home/hiimbias/Workspace/aiagent/test\n"
     ]
    }
   ],
   "source": [
    "import os\n",
    "print(os.getcwd())"
   ]
  },
  {
   "cell_type": "code",
   "execution_count": 2,
   "id": "3afc0e9b",
   "metadata": {},
   "outputs": [
    {
     "name": "stdout",
     "output_type": "stream",
     "text": [
      "/home/hiimbias/Workspace/aiagent\n"
     ]
    }
   ],
   "source": [
    "os.chdir('/home/hiimbias/Workspace/aiagent')\n",
    "print(os.getcwd())  # Verify the change"
   ]
  },
  {
   "cell_type": "code",
   "execution_count": 3,
   "id": "0740f17d",
   "metadata": {},
   "outputs": [],
   "source": [
    "from modules.openai.openai_executor import OpenAIExecutor\n",
    "from core.utils.tool_wrapper import tool\n",
    "from pydantic import BaseModel\n",
    "from typing import Annotated\n",
    "import openai\n",
    "import os\n",
    "from modules.tools.get_weather import get_weather_tool"
   ]
  },
  {
   "cell_type": "code",
   "execution_count": 4,
   "id": "40935486",
   "metadata": {},
   "outputs": [],
   "source": [
    "# Define a tool\n",
    "@tool(\n",
    "    description=\"Get the weather of a city\", # Define the tool description\n",
    ")\n",
    "def get_weather(city: Annotated[str, \"The city to get the weather of\"]): # Each argument must be of type Annotated\n",
    "    \"\"\"Get the weather of a city\"\"\"\n",
    "\n",
    "    # Actual implementation here...\n",
    "    # ...\n",
    "\n",
    "    return f\"Weather in {city}: sunny, 20°C, feels like 22°C, humidity: 50%\""
   ]
  },
  {
   "cell_type": "code",
   "execution_count": 5,
   "id": "9bcd5847",
   "metadata": {},
   "outputs": [
    {
     "data": {
      "text/plain": [
       "{'type': 'function',\n",
       " 'function': {'name': 'get_weather_tool',\n",
       "  'description': 'Get weather information for a location.\\n\\nArgs:\\n    mode: Type of weather data to return (current, forecast, or both)\\n    location: Location to get weather for, or \"Unknown\" to auto-detect\\n    days: Number of days for forecast (max 3)\\n    \\nReturns:\\n    WeatherResponse object with requested weather data',\n",
       "  'strict': True,\n",
       "  'parameters': {'properties': {'mode': {'enum': ['current',\n",
       "      'forecast',\n",
       "      'both'],\n",
       "     'title': 'Mode',\n",
       "     'type': 'string'},\n",
       "    'location': {'anyOf': [{'type': 'string'},\n",
       "      {'const': 'Unknown', 'type': 'string'}],\n",
       "     'title': 'Location'},\n",
       "    'days': {'anyOf': [{'type': 'integer'}, {'const': 0, 'type': 'integer'}],\n",
       "     'title': 'Days'}},\n",
       "   'required': ['mode', 'location', 'days'],\n",
       "   'type': 'object',\n",
       "   'additionalProperties': False}}}"
      ]
     },
     "execution_count": 5,
     "metadata": {},
     "output_type": "execute_result"
    }
   ],
   "source": [
    "get_weather_tool.schema"
   ]
  },
  {
   "cell_type": "code",
   "execution_count": 6,
   "id": "0c972579",
   "metadata": {},
   "outputs": [],
   "source": [
    "@tool(\n",
    "    description=\"Calculate the sum of 2 numbers\", # Define the tool description\n",
    ")\n",
    "def calculate(a: Annotated[int, \"a\"], b: Annotated[int, \"b\"]) -> int:\n",
    "    \"\"\"Calculate the sum of two numbers\"\"\"\n",
    "    return a + b"
   ]
  },
  {
   "cell_type": "code",
   "execution_count": 7,
   "id": "109f4353",
   "metadata": {},
   "outputs": [
    {
     "data": {
      "text/plain": [
       "{'type': 'function',\n",
       " 'function': {'name': 'calculate',\n",
       "  'description': 'Calculate the sum of two numbers',\n",
       "  'strict': True,\n",
       "  'parameters': {'properties': {'a': {'title': 'A', 'type': 'integer'},\n",
       "    'b': {'title': 'B', 'type': 'integer'}},\n",
       "   'required': ['a', 'b'],\n",
       "   'type': 'object',\n",
       "   'additionalProperties': False}}}"
      ]
     },
     "execution_count": 7,
     "metadata": {},
     "output_type": "execute_result"
    }
   ],
   "source": [
    "calculate.schema"
   ]
  },
  {
   "cell_type": "code",
   "execution_count": 8,
   "id": "b52994ff",
   "metadata": {},
   "outputs": [
    {
     "name": "stdout",
     "output_type": "stream",
     "text": [
      "role='assistant' content=None tool_calls=[{'id': 'call_jzBmqAZwGUQ4V0Iy5jT7yUgP', 'type': 'function', 'function': {'arguments': '{\"mode\":\"current\",\"location\":\"New York\",\"days\":0}', 'name': 'get_weather_tool'}}] tool_results=None refusal=None audio=None usage=UsageResponse(prompt_tokens=197, completion_tokens=25, total_tokens=222, prompt_tokens_details=PromptTokensDetails(cached_tokens=0, audio_tokens=0), completion_tokens_details=CompletionTokensDetails(reasoning_tokens=0, audio_tokens=0, accepted_prediction_tokens=0, rejected_prediction_tokens=0))\n",
      "role='tool' content=None tool_calls=None tool_results=[ToolCallResult(tool_name='get_weather_tool', result=WeatherResponse(location='New York', current_weather=CurrentWeather(date='2025-05-13 22:30', temp=15.6, chance_of_rain=75.0, air_quality=2, humidity=90.0, condition='Light rain'), forecast=None, error=None))] refusal=None audio=None usage=None\n",
      "role='assistant' content='The current weather in New York is as follows:\\n\\n- **Temperature:** 15.6°C\\n- **Condition:** Light rain\\n- **Chance of Rain:** 75%\\n- **Humidity:** 90%\\n- **Air Quality Index:** 2 (Good)\\n\\nIf you need more information or a forecast, just let me know!' tool_calls=None tool_results=[] refusal=None audio=None usage=UsageResponse(prompt_tokens=293, completion_tokens=70, total_tokens=363, prompt_tokens_details=PromptTokensDetails(cached_tokens=0, audio_tokens=0), completion_tokens_details=CompletionTokensDetails(reasoning_tokens=0, audio_tokens=0, accepted_prediction_tokens=0, rejected_prediction_tokens=0))\n"
     ]
    }
   ],
   "source": [
    "# Initialize OpenAI client\n",
    "client = openai.OpenAI(\n",
    "    api_key=os.getenv(\"OPENAI_API_KEY\"),\n",
    ")\n",
    "\n",
    "# Initialize LLM service\n",
    "executor = OpenAIExecutor(\n",
    "    client=client,\n",
    "    model=\"gpt-4o-mini\",\n",
    "    system_message=\"\"\"\n",
    "    You are a helpful assistant that can answer questions and help with tasks.\n",
    "    You are also able to use tools to get information.\n",
    "    \"\"\",\n",
    "    tools=[get_weather_tool, calculate],\n",
    "    temperature=0.5,\n",
    "    max_tokens=100,\n",
    "    top_p=1.0,\n",
    ")\n",
    "\n",
    "generator = executor.execute(\n",
    "    messages=[\n",
    "        {\"role\": \"user\", \"content\": \"What's the weather like in New York?\"}\n",
    "    ]\n",
    ")\n",
    "\n",
    "for response in generator:\n",
    "    print(response)"
   ]
  },
  {
   "cell_type": "code",
   "execution_count": 9,
   "id": "45e4b2e9",
   "metadata": {},
   "outputs": [
    {
     "data": {
      "text/plain": [
       "[{'role': 'system',\n",
       "  'content': '\\n    You are a helpful assistant that can answer questions and help with tasks.\\n    You are also able to use tools to get information.\\n    \\n        Current date and time: 2025-05-14 09:30:38\\n\\n        \\n        '}]"
      ]
     },
     "execution_count": 9,
     "metadata": {},
     "output_type": "execute_result"
    }
   ],
   "source": [
    "executor.get_history()"
   ]
  },
  {
   "cell_type": "code",
   "execution_count": 10,
   "id": "465869ce",
   "metadata": {},
   "outputs": [
    {
     "data": {
      "text/plain": [
       "[{'role': 'system',\n",
       "  'content': '\\n    You are a helpful assistant that can answer questions and help with tasks.\\n    You are also able to use tools to get information.\\n    \\n        Current date and time: 2025-05-14 09:30:38\\n\\n        \\n        '}]"
      ]
     },
     "execution_count": 10,
     "metadata": {},
     "output_type": "execute_result"
    }
   ],
   "source": [
    "executor.clear_history()"
   ]
  },
  {
   "cell_type": "code",
   "execution_count": 11,
   "id": "82b2a256",
   "metadata": {},
   "outputs": [
    {
     "name": "stdout",
     "output_type": "stream",
     "text": [
      "User: Hello\n",
      "AI: Hello! How can I assist you today?\n"
     ]
    },
    {
     "ename": "KeyboardInterrupt",
     "evalue": "Interrupted by user",
     "output_type": "error",
     "traceback": [
      "\u001b[31m---------------------------------------------------------------------------\u001b[39m",
      "\u001b[31mKeyboardInterrupt\u001b[39m                         Traceback (most recent call last)",
      "\u001b[36mCell\u001b[39m\u001b[36m \u001b[39m\u001b[32mIn[11]\u001b[39m\u001b[32m, line 2\u001b[39m\n\u001b[32m      1\u001b[39m \u001b[38;5;28;01mwhile\u001b[39;00m \u001b[38;5;28;01mTrue\u001b[39;00m:\n\u001b[32m----> \u001b[39m\u001b[32m2\u001b[39m     user_input = \u001b[38;5;28;43minput\u001b[39;49m\u001b[43m(\u001b[49m\u001b[33;43m\"\u001b[39;49m\u001b[33;43mUser: \u001b[39;49m\u001b[33;43m\"\u001b[39;49m\u001b[43m)\u001b[49m\n\u001b[32m      3\u001b[39m     \u001b[38;5;28mprint\u001b[39m(\u001b[33mf\u001b[39m\u001b[33m\"\u001b[39m\u001b[33mUser: \u001b[39m\u001b[38;5;132;01m{\u001b[39;00muser_input\u001b[38;5;132;01m}\u001b[39;00m\u001b[33m\"\u001b[39m)\n\u001b[32m      5\u001b[39m     \u001b[38;5;28;01mif\u001b[39;00m user_input.lower() == \u001b[33m\"\u001b[39m\u001b[33mexit\u001b[39m\u001b[33m\"\u001b[39m:\n",
      "\u001b[36mFile \u001b[39m\u001b[32m~/Workspace/aiagent/venv/lib/python3.13/site-packages/ipykernel/kernelbase.py:1282\u001b[39m, in \u001b[36mKernel.raw_input\u001b[39m\u001b[34m(self, prompt)\u001b[39m\n\u001b[32m   1280\u001b[39m     msg = \u001b[33m\"\u001b[39m\u001b[33mraw_input was called, but this frontend does not support input requests.\u001b[39m\u001b[33m\"\u001b[39m\n\u001b[32m   1281\u001b[39m     \u001b[38;5;28;01mraise\u001b[39;00m StdinNotImplementedError(msg)\n\u001b[32m-> \u001b[39m\u001b[32m1282\u001b[39m \u001b[38;5;28;01mreturn\u001b[39;00m \u001b[38;5;28;43mself\u001b[39;49m\u001b[43m.\u001b[49m\u001b[43m_input_request\u001b[49m\u001b[43m(\u001b[49m\n\u001b[32m   1283\u001b[39m \u001b[43m    \u001b[49m\u001b[38;5;28;43mstr\u001b[39;49m\u001b[43m(\u001b[49m\u001b[43mprompt\u001b[49m\u001b[43m)\u001b[49m\u001b[43m,\u001b[49m\n\u001b[32m   1284\u001b[39m \u001b[43m    \u001b[49m\u001b[38;5;28;43mself\u001b[39;49m\u001b[43m.\u001b[49m\u001b[43m_parent_ident\u001b[49m\u001b[43m[\u001b[49m\u001b[33;43m\"\u001b[39;49m\u001b[33;43mshell\u001b[39;49m\u001b[33;43m\"\u001b[39;49m\u001b[43m]\u001b[49m\u001b[43m,\u001b[49m\n\u001b[32m   1285\u001b[39m \u001b[43m    \u001b[49m\u001b[38;5;28;43mself\u001b[39;49m\u001b[43m.\u001b[49m\u001b[43mget_parent\u001b[49m\u001b[43m(\u001b[49m\u001b[33;43m\"\u001b[39;49m\u001b[33;43mshell\u001b[39;49m\u001b[33;43m\"\u001b[39;49m\u001b[43m)\u001b[49m\u001b[43m,\u001b[49m\n\u001b[32m   1286\u001b[39m \u001b[43m    \u001b[49m\u001b[43mpassword\u001b[49m\u001b[43m=\u001b[49m\u001b[38;5;28;43;01mFalse\u001b[39;49;00m\u001b[43m,\u001b[49m\n\u001b[32m   1287\u001b[39m \u001b[43m\u001b[49m\u001b[43m)\u001b[49m\n",
      "\u001b[36mFile \u001b[39m\u001b[32m~/Workspace/aiagent/venv/lib/python3.13/site-packages/ipykernel/kernelbase.py:1325\u001b[39m, in \u001b[36mKernel._input_request\u001b[39m\u001b[34m(self, prompt, ident, parent, password)\u001b[39m\n\u001b[32m   1322\u001b[39m \u001b[38;5;28;01mexcept\u001b[39;00m \u001b[38;5;167;01mKeyboardInterrupt\u001b[39;00m:\n\u001b[32m   1323\u001b[39m     \u001b[38;5;66;03m# re-raise KeyboardInterrupt, to truncate traceback\u001b[39;00m\n\u001b[32m   1324\u001b[39m     msg = \u001b[33m\"\u001b[39m\u001b[33mInterrupted by user\u001b[39m\u001b[33m\"\u001b[39m\n\u001b[32m-> \u001b[39m\u001b[32m1325\u001b[39m     \u001b[38;5;28;01mraise\u001b[39;00m \u001b[38;5;167;01mKeyboardInterrupt\u001b[39;00m(msg) \u001b[38;5;28;01mfrom\u001b[39;00m\u001b[38;5;250m \u001b[39m\u001b[38;5;28;01mNone\u001b[39;00m\n\u001b[32m   1326\u001b[39m \u001b[38;5;28;01mexcept\u001b[39;00m \u001b[38;5;167;01mException\u001b[39;00m:\n\u001b[32m   1327\u001b[39m     \u001b[38;5;28mself\u001b[39m.log.warning(\u001b[33m\"\u001b[39m\u001b[33mInvalid Message:\u001b[39m\u001b[33m\"\u001b[39m, exc_info=\u001b[38;5;28;01mTrue\u001b[39;00m)\n",
      "\u001b[31mKeyboardInterrupt\u001b[39m: Interrupted by user"
     ]
    }
   ],
   "source": [
    "while True:\n",
    "    user_input = input(\"User: \")\n",
    "    print(f\"User: {user_input}\")\n",
    "    \n",
    "    if user_input.lower() == \"exit\":\n",
    "        break\n",
    "\n",
    "    generator = executor.execute(\n",
    "        messages=[\n",
    "            {\"role\": \"user\", \"content\": user_input}\n",
    "        ]\n",
    "    )\n",
    "\n",
    "    for response in generator:\n",
    "        if response.content is not None:\n",
    "            print(f\"AI: {response.content}\")\n",
    "        if response.tool_calls:\n",
    "            [print(f\"Tool Calls: {tool_call}\") for tool_call in response.tool_calls]"
   ]
  },
  {
   "cell_type": "code",
   "execution_count": null,
   "id": "a8ca886b",
   "metadata": {},
   "outputs": [
    {
     "data": {
      "text/plain": [
       "[{'role': 'system',\n",
       "  'content': '\\n    You are a helpful assistant that can answer questions and help with tasks.\\n    You are also able to use tools to get information.\\n    \\n        Current date and time: 2025-05-03 00:00:28\\n\\n        \\n        '}]"
      ]
     },
     "execution_count": 11,
     "metadata": {},
     "output_type": "execute_result"
    }
   ],
   "source": [
    "executor.get_history()"
   ]
  }
 ],
 "metadata": {
  "kernelspec": {
   "display_name": "venv",
   "language": "python",
   "name": "python3"
  },
  "language_info": {
   "codemirror_mode": {
    "name": "ipython",
    "version": 3
   },
   "file_extension": ".py",
   "mimetype": "text/x-python",
   "name": "python",
   "nbconvert_exporter": "python",
   "pygments_lexer": "ipython3",
   "version": "3.13.3"
  }
 },
 "nbformat": 4,
 "nbformat_minor": 5
}
